{
 "cells": [
  {
   "cell_type": "code",
   "execution_count": 1,
   "metadata": {},
   "outputs": [],
   "source": [
    "import pandas as pd\n",
    "import numpy as np\n",
    "import matplotlib.pyplot as plt\n",
    "from sklearn.decomposition import PCA\n",
    "from sklearn.preprocessing import StandardScaler\n"
   ]
  },
  {
   "cell_type": "code",
   "execution_count": 2,
   "metadata": {},
   "outputs": [
    {
     "name": "stdout",
     "output_type": "stream",
     "text": [
      "C:\\Users\\Manash\\Desktop\n"
     ]
    }
   ],
   "source": [
    "cd Desktop/\n"
   ]
  },
  {
   "cell_type": "code",
   "execution_count": 3,
   "metadata": {},
   "outputs": [
    {
     "data": {
      "text/plain": [
       "(8041, 35)"
      ]
     },
     "execution_count": 3,
     "metadata": {},
     "output_type": "execute_result"
    }
   ],
   "source": [
    "df=pd.read_csv('PCA_practice_dataset.csv')\n",
    "df.head()\n",
    "X=df.to_numpy()\n",
    "X.shape\n"
   ]
  },
  {
   "cell_type": "code",
   "execution_count": 4,
   "metadata": {},
   "outputs": [],
   "source": [
    "scaler=StandardScaler()\n",
    "X=scaler.fit_transform(X)\n"
   ]
  },
  {
   "cell_type": "code",
   "execution_count": 8,
   "metadata": {},
   "outputs": [
    {
     "name": "stdout",
     "output_type": "stream",
     "text": [
      "components required for 90\n",
      "components required for 91\n",
      "components required for 92\n",
      "components required for 93\n",
      "components required for 94\n",
      "components required for 95\n",
      "components required for 96\n",
      "components required for 97\n"
     ]
    }
   ],
   "source": [
    "pca=PCA()\n",
    "X=pca.fit_transform(X)\n",
    "cumalative_variance=np.cumsum(pca.explained_variance_ratio_)*100\n",
    "threholds=[i for i in range(90,97+1,1)]\n",
    "components=[np.argmax(cumalative_variance>threhold)for threhold in threholds]\n",
    "for component,threshold in zip(components,threholds):\n",
    "              print(\"components required for {}\".format(threshold,component))"
   ]
  },
  {
   "cell_type": "code",
   "execution_count": 9,
   "metadata": {},
   "outputs": [
    {
     "data": {
      "image/png": "[encoded data removed]",
      "text/plain": [
       "<Figure size 432x288 with 1 Axes>"
      ]
     },
     "metadata": {
      "needs_background": "light"
     },
     "output_type": "display_data"
    }
   ],
   "source": [
    "plt.plot(components,range(90,97+1,1),'ro-',linewidth=2)\n",
    "plt.title(\"Scree plot\")\n",
    "plt.xlabel(\"principal component\")\n",
    "plt.ylabel(\"threshold in %\")\n",
    "plt.show()"
   ]
  },
  {
   "cell_type": "code",
   "execution_count": 10,
   "metadata": {},
   "outputs": [
    {
     "name": "stdout",
     "output_type": "stream",
     "text": [
      "Performing dimensionality reduction to retain 90% threshold\n",
      "after dimensionality reduction ,new shape of the dataset is : (8041, 2)\n",
      "\n",
      "\n",
      "Performing dimensionality reduction to retain 91% threshold\n",
      "after dimensionality reduction ,new shape of the dataset is : (8041, 2)\n",
      "\n",
      "\n",
      "Performing dimensionality reduction to retain 92% threshold\n",
      "after dimensionality reduction ,new shape of the dataset is : (8041, 3)\n",
      "\n",
      "\n",
      "Performing dimensionality reduction to retain 93% threshold\n",
      "after dimensionality reduction ,new shape of the dataset is : (8041, 3)\n",
      "\n",
      "\n",
      "Performing dimensionality reduction to retain 94% threshold\n",
      "after dimensionality reduction ,new shape of the dataset is : (8041, 4)\n",
      "\n",
      "\n",
      "Performing dimensionality reduction to retain 95% threshold\n",
      "after dimensionality reduction ,new shape of the dataset is : (8041, 4)\n",
      "\n",
      "\n",
      "Performing dimensionality reduction to retain 96% threshold\n",
      "after dimensionality reduction ,new shape of the dataset is : (8041, 5)\n",
      "\n",
      "\n",
      "Performing dimensionality reduction to retain 97% threshold\n",
      "after dimensionality reduction ,new shape of the dataset is : (8041, 6)\n",
      "\n",
      "\n"
     ]
    }
   ],
   "source": [
    "X_orig=X\n",
    "for component,var in zip(components,threholds):\n",
    "    pca=PCA(n_components=component)\n",
    "    X_transformed=pca.fit_transform(X_orig)\n",
    "    print(\"Performing dimensionality reduction to retain {}% threshold\".format(var))\n",
    "    print(\"after dimensionality reduction ,new shape of the dataset is :\",X_transformed.shape)\n",
    "    print(\"\\n\")"
   ]
  },
  {
   "cell_type": "code",
   "execution_count": null,
   "metadata": {},
   "outputs": [],
   "source": []
  },
  {
   "cell_type": "code",
   "execution_count": null,
   "metadata": {},
   "outputs": [],
   "source": []
  },
  {
   "cell_type": "code",
   "execution_count": null,
   "metadata": {},
   "outputs": [],
   "source": []
  },
  {
   "cell_type": "code",
   "execution_count": null,
   "metadata": {},
   "outputs": [],
   "source": []
  }
 ],
 "metadata": {
  "kernelspec": {
   "display_name": "Python 3",
   "language": "python",
   "name": "python3"
  },
  "language_info": {
   "codemirror_mode": {
    "name": "ipython",
    "version": 3
   },
   "file_extension": ".py",
   "mimetype": "text/x-python",
   "name": "python",
   "nbconvert_exporter": "python",
   "pygments_lexer": "ipython3",
   "version": "3.7.4"
  }
 },
 "nbformat": 4,
 "nbformat_minor": 2
}
